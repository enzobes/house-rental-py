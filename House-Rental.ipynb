{
 "cells": [
  {
   "cell_type": "markdown",
   "metadata": {},
   "source": [
    "# House Rental\n",
    "\n",
    "## Subject\n",
    "\n",
    "### Helping to evaluate vacation renting sites\n",
    "\n",
    "__Short description__: This project is concentrated on the evaluating renting advertisements by studying the electricity consumption in towns where the property is advertised. In the context of users choosing different destinations for vacations, provide them an additional information on those places in terms of environmental conditions. The environmental condition in our limited example is based on the electrical consumption in the destination town.\n",
    "\n",
    "__Further details__: In France, several house rental web sites have RSS XML flow that can be parsed into a data set containing the list of available rentals. You will find the names of the towns inside the text.\n",
    "\n",
    "At the same time you have the CSV file from [ENEDIS](https://data.enedis.fr/explore/dataset/consommation-electrique-par-secteur-dactivite-commune/) containing the history of electricity consumption allowing you to estimation how much and for which purpose the energy is consumed. Thus you can provide every community with the “electrical” description, where you will calculate different indicators, such as for example, \n",
    "* part/amount of non-resident consumption, which might indicate the importance of the industrial installations in the town.\n",
    "* evolution of the residencial consumption for several years, which might indicate the growth factor of the town\n",
    "* evolution of the non-residential consumption\n",
    "* other indicators left to you\n",
    "\n",
    "Putting both data sources together allows you to sort/filter the rental advertisements by the “energy” indicators, as, for example, “zero industry” advertisements - quiet locations. To find an exact usage is left to you as a part of the exercise."
   ]
  },
  {
   "cell_type": "markdown",
   "metadata": {},
   "source": [
    "## Code"
   ]
  },
  {
   "cell_type": "markdown",
   "metadata": {},
   "source": [
    "### Imports"
   ]
  },
  {
   "cell_type": "code",
   "execution_count": null,
   "metadata": {},
   "outputs": [],
   "source": [
    "import sys\n",
    "import pandas as pd\n",
    "import re\n",
    "import numpy as np\n",
    "import feedparser\n",
    "from bokeh import io, plotting, layouts, models, palettes\n",
    "import cufflinks as cf\n",
    "import plotly\n",
    "import plotly.plotly as py\n",
    "import plotly.graph_objs as go\n",
    "from bokeh.plotting import figure\n",
    "from bokeh.io import push_notebook, show, output_notebook\n",
    "plotly.tools.set_credentials_file(username='enzobes', api_key='NbVOe5BmvoI0upllgZ6J')\n",
    "\n",
    "pd.options.display.max_columns= 200\n",
    "pd.options.display.max_rows= 200"
   ]
  },
  {
   "cell_type": "code",
   "execution_count": null,
   "metadata": {},
   "outputs": [],
   "source": [
    "base = \"http://www.ty-gites.com/rss/\"\n",
    "location = \"locations_vacances_\"\n",
    "regions = [\"alsace\",\n",
    "           \"aquitaine\",\n",
    "           \"auvergne\",\n",
    "           \"bourgogne\",\n",
    "           \"bretagne\",\n",
    "           \"centre_val_de_loire\",\n",
    "           \"champagne_ardenne\",\n",
    "           \"corse\",\n",
    "           \"franche_comte\",\n",
    "           \"ile_de_france\",\n",
    "           \"languedoc_roussillon\",\n",
    "           \"limousin\",\n",
    "           \"lorraine\",\n",
    "           \"midi_pyrenees\",\n",
    "           \"nord_pas_de_calais\",\n",
    "           \"normandie\",\n",
    "           \"pays_de_la_loire\",\n",
    "           \"picardie\",\n",
    "           \"poitou_charentes\",\n",
    "           \"provence_alpes_cote_d_azur\",\n",
    "           \"rhone_alpes\",\n",
    "           \"outre_mer\"]"
   ]
  },
  {
   "cell_type": "markdown",
   "metadata": {},
   "source": [
    "### Parsing RSS feeds into Dataframe"
   ]
  },
  {
   "cell_type": "code",
   "execution_count": null,
   "metadata": {},
   "outputs": [],
   "source": [
    "feeds, items = [], []\n",
    "cpt = 0\n",
    "regex = r\"-\\s(\\w|-)*\\s-\"\n",
    "for region in regions:\n",
    "    url = base+location+region+\".xml\"\n",
    "    feeds.append(feedparser.parse(url))\n",
    "\n",
    "for feed in feeds:\n",
    "    for item in feed.entries:\n",
    "        m = re.search(regex, item.title)\n",
    "        if m:\n",
    "            items.append((item.title, m.group(0)[1:-1].lower().strip(), item.published, item.summary, item.link))\n",
    "        else:\n",
    "            cpt+=1\n",
    "\n",
    "rents = pd.DataFrame(items, columns=['titre', 'nom_commune', 'date_publication', 'description', 'lien'])\n",
    "print(\"Il manque %d entrées\" % cpt)\n",
    "rents.head()"
   ]
  },
  {
   "cell_type": "code",
   "execution_count": null,
   "metadata": {},
   "outputs": [],
   "source": [
    "conso = pd.read_csv( \"datasets/conso.csv\" , delimiter = \";\" )\n",
    "\n",
    "dataEnedis = pd.DataFrame(data=conso)\n",
    "dataEnedis.columns = [x.strip().replace(' ', '_').lower() for x in dataEnedis.columns]\n",
    "dataEnedis['nom_commune'] = dataEnedis['nom_commune'].str.lower()\n",
    "#dataEnedis['année'] = pd.to_datetime( dataEnedis['année'] , format = \"%Y\" )\n",
    "dataEnedis.head()"
   ]
  },
  {
   "cell_type": "code",
   "execution_count": null,
   "metadata": {
    "scrolled": true
   },
   "outputs": [],
   "source": [
    "codeCommune = pd.DataFrame(columns=['nom_commune', 'code_commune', \"nombre_d'habitants\"])\n",
    "\n",
    "codeCommune['nom_commune'] = conso[\"nom_commune\"].values\n",
    "codeCommune['code_commune'] = conso[\"code_commune\"]\n",
    "codeCommune[\"nombre_d'habitants\"] = conso[\"nombre_d'habitants\"]\n",
    "codeCommune = codeCommune.drop_duplicates()\n",
    "CommuneByPeople = codeCommune.sort_values([\"nombre_d'habitants\"], ascending = False)\n",
    "CommuneByPeople.head(10)\n",
    "\n"
   ]
  },
  {
   "cell_type": "markdown",
   "metadata": {},
   "source": [
    "*On supprime les champs inutiles du dataset*"
   ]
  },
  {
   "cell_type": "code",
   "execution_count": null,
   "metadata": {},
   "outputs": [],
   "source": [
    "df_enedis = dataEnedis.drop(['geo_shape','geo_point_2d','nom_epci'], axis=1)"
   ]
  },
  {
   "cell_type": "code",
   "execution_count": null,
   "metadata": {},
   "outputs": [],
   "source": [
    "merged = codeCommune.merge(rents, on='nom_commune',how='inner')\n",
    "merged.head()"
   ]
  },
  {
   "cell_type": "markdown",
   "metadata": {},
   "source": [
    " #  Check if any value is NaN in DataFrame"
   ]
  },
  {
   "cell_type": "markdown",
   "metadata": {},
   "source": [
    "Si la fonction retourne `True` alors il existe des colonnes qui contiennent `Nan` en donnée "
   ]
  },
  {
   "cell_type": "code",
   "execution_count": null,
   "metadata": {},
   "outputs": [],
   "source": [
    "isNull = False\n",
    "while isNull == False:\n",
    "    for i in df_enedis.isnull().values.any(axis=1):\n",
    "        if i == True:\n",
    "            isNull = i\n",
    "\n",
    "print(isNull)"
   ]
  },
  {
   "cell_type": "markdown",
   "metadata": {},
   "source": [
    "  Generation de Graphique avec Bohek à partir du fichier ENEDIS"
   ]
  },
  {
   "cell_type": "code",
   "execution_count": null,
   "metadata": {},
   "outputs": [],
   "source": [
    "io.output_notebook()"
   ]
  },
  {
   "cell_type": "code",
   "execution_count": null,
   "metadata": {},
   "outputs": [],
   "source": [
    "years_sorted = sorted(df_enedis['année'].unique())\n",
    "years_sorted"
   ]
  },
  {
   "cell_type": "code",
   "execution_count": null,
   "metadata": {},
   "outputs": [],
   "source": [
    "p = plotting.figure(plot_width=950, plot_height=400)\n",
    "\n",
    "r = p.line(years_sorted,df_enedis[df_enedis[\"nom_commune\"] == 'bourbriac']['conso_totale_industrie_(mwh)'], line_width=2)\n",
    "\n",
    "plotting.show(p)"
   ]
  },
  {
   "cell_type": "code",
   "execution_count": null,
   "metadata": {},
   "outputs": [],
   "source": [
    "df_enedis = df_enedis.sort_values(['nb_sites_résidentiel'], ascending=False)\n",
    "df_enedis.head()"
   ]
  },
  {
   "cell_type": "code",
   "execution_count": null,
   "metadata": {},
   "outputs": [],
   "source": [
    "cf.set_config_file(offline=False, world_readable=True, theme='ggplot')\n",
    "\n",
    "nb_site_resident = df_enedis['nb_sites_résidentiel'].head(10)\n",
    "nb_site_pro = df_enedis['nb_sites_professionnel'].head(10)\n",
    "nb_site_indus = df_enedis['nb_sites_industrie'].head(10)\n",
    "\n",
    "nom_commune = CommuneByPeople['nom_commune'].head(10)\n",
    "\n",
    "residents = []\n",
    "pros = []\n",
    "indus = []\n",
    "communes = []\n",
    "for item in nom_commune:\n",
    "\n",
    "    communes.append(item)\n",
    "\n",
    "for item in nb_site_resident:\n",
    "\n",
    "    residents.append(item)\n",
    "    \n",
    "for item in nb_site_pro:\n",
    "\n",
    "    pros.append(item)\n",
    "    \n",
    "for item in nb_site_indus:\n",
    "\n",
    "    indus.append(item)\n",
    "    \n",
    "print(communes)\n",
    "\n",
    "\n",
    "trace0 = go.Bar(\n",
    "            x=communes,\n",
    "            y=residents,\n",
    "            name = \"Site pro\"\n",
    ")\n",
    "\n",
    "trace1 = go.Bar(\n",
    "            x=communes,\n",
    "            y=pros,\n",
    "            name = \"Site résidents\"\n",
    ")\n",
    "trace2 = go.Bar(\n",
    "            x=communes,\n",
    "            y=indus,\n",
    "            name = \"Site Industriel\"\n",
    ")\n",
    "\n",
    "\n",
    "data = [trace0, trace1, trace2]\n",
    "layout = go.Layout(showlegend=True)\n",
    "fig = go.Figure(data=data, layout=layout)\n",
    "py.iplot(fig, filename='basic-bar')"
   ]
  },
  {
   "cell_type": "markdown",
   "metadata": {},
   "source": [
    "## Merging RSS feed with dataset\n",
    "### Looking for houses\n",
    "\n",
    "On prend les 10 communes possédant le plus de logements de chaque type"
   ]
  },
  {
   "cell_type": "code",
   "execution_count": null,
   "metadata": {},
   "outputs": [],
   "source": [
    "import matplotlib.pyplot as plt\n",
    "\n",
    "f, a = plt.subplots(2,1)\n",
    "df_rents01 = df_enedis.merge(merged, on=[\"code_commune\", \"nom_commune\", \"nombre_d'habitants\"], how=\"inner\")\n",
    "\n",
    "df_rents01.groupby(\"nom_commune\").agg({\"superficie_des_logements_80_à_100_m2\":\"max\"})['superficie_des_logements_80_à_100_m2'].nlargest(10).plot(title=\"Logements de 80 à 100 m2\", x=\"Nb. logements\", y=\"Communes\", kind=\"barh\",figsize=(15,12), ax=a[0])\n",
    "df_rents01.groupby(\"nom_commune\").agg({\"superficie_des_logements_>_100_m2\":\"max\"})['superficie_des_logements_>_100_m2'].nlargest(10).plot(title=\"Logements de plus de 100 m2\", x=\"Nb. logements\", y=\"Communes\", kind=\"barh\",figsize=(15,12), ax=a[1])"
   ]
  }
 ],
 "metadata": {
  "kernelspec": {
   "display_name": "Python 3",
   "language": "python",
   "name": "python3"
  },
  "language_info": {
   "codemirror_mode": {
    "name": "ipython",
    "version": 3
   },
   "file_extension": ".py",
   "mimetype": "text/x-python",
   "name": "python",
   "nbconvert_exporter": "python",
   "pygments_lexer": "ipython3",
   "version": "3.6.4"
  }
 },
 "nbformat": 4,
 "nbformat_minor": 2
}
