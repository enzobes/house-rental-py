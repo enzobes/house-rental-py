{
 "cells": [
  {
   "cell_type": "markdown",
   "metadata": {},
   "source": [
    "# House Rental\n",
    "\n",
    "## Subject\n",
    "\n",
    "### Helping to evaluate vacation renting sites\n",
    "\n",
    "__Short description__: This project is concentrated on the evaluating renting advertisements by studying the electricity consumption in towns where the property is advertised. In the context of users choosing different destinations for vacations, provide them an additional information on those places in terms of environmental conditions. The environmental condition in our limited example is based on the electrical consumption in the destination town.\n",
    "\n",
    "__Further details__: In France, several house rental web sites have RSS XML flow that can be parsed into a data set containing the list of available rentals. You will find the names of the towns inside the text.\n",
    "\n",
    "At the same time you have the CSV file from [ENEDIS](https://data.enedis.fr/explore/dataset/consommation-electrique-par-secteur-dactivite-commune/) containing the history of electricity consumption allowing you to estimation how much and for which purpose the energy is consumed. Thus you can provide every community with the “electrical” description, where you will calculate different indicators, such as for example, \n",
    "* part/amount of non-resident consumption, which might indicate the importance of the industrial installations in the town.\n",
    "* evolution of the residencial consumption for several years, which might indicate the growth factor of the town\n",
    "* evolution of the non-residential consumption\n",
    "* other indicators left to you\n",
    "\n",
    "Putting both data sources together allows you to sort/filter the rental advertisements by the “energy” indicators, as, for example, “zero industry” advertisements - quiet locations. To find an exact usage is left to you as a part of the exercise."
   ]
  },
  {
   "cell_type": "markdown",
   "metadata": {},
   "source": [
    "## Code"
   ]
  },
  {
   "cell_type": "markdown",
   "metadata": {},
   "source": [
    "### Imports"
   ]
  },
  {
   "cell_type": "code",
   "execution_count": null,
   "metadata": {},
   "outputs": [],
   "source": [
    "import sys\n",
    "import pandas as pd\n",
    "import re\n",
    "import numpy as np\n",
    "import feedparser\n",
    "from bokeh import io, plotting, layouts, models, palettes\n",
    "import cufflinks as cf\n",
    "import plotly\n",
    "import plotly.plotly as py\n",
    "import plotly.graph_objs as go\n",
    "from bokeh.plotting import figure\n",
    "from bokeh.io import push_notebook, show, output_notebook\n",
    "plotly.tools.set_credentials_file(username='enzobes', api_key='NbVOe5BmvoI0upllgZ6J')\n",
    "\n",
    "pd.options.display.max_columns= 200\n",
    "pd.options.display.max_rows= 200"
   ]
  },
  {
   "cell_type": "code",
   "execution_count": null,
   "metadata": {},
   "outputs": [],
   "source": [
    "base = \"http://www.ty-gites.com/rss/\"\n",
    "location = \"locations_vacances_\"\n",
    "regions = [\"alsace\",\n",
    "           \"aquitaine\",\n",
    "           \"auvergne\",\n",
    "           \"bourgogne\",\n",
    "           \"bretagne\",\n",
    "           \"centre_val_de_loire\",\n",
    "           \"champagne_ardenne\",\n",
    "           \"corse\",\n",
    "           \"franche_comte\",\n",
    "           \"ile_de_france\",\n",
    "           \"languedoc_roussillon\",\n",
    "           \"limousin\",\n",
    "           \"lorraine\",\n",
    "           \"midi_pyrenees\",\n",
    "           \"nord_pas_de_calais\",\n",
    "           \"normandie\",\n",
    "           \"pays_de_la_loire\",\n",
    "           \"picardie\",\n",
    "           \"poitou_charentes\",\n",
    "           \"provence_alpes_cote_d_azur\",\n",
    "           \"rhone_alpes\",\n",
    "           \"outre_mer\"]"
   ]
  },
  {
   "cell_type": "markdown",
   "metadata": {},
   "source": [
    "### Parsing RSS feeds into Dataframe"
   ]
  },
  {
   "cell_type": "code",
   "execution_count": null,
   "metadata": {},
   "outputs": [],
   "source": [
    "feeds, items = [], []\n",
    "cpt = 0\n",
    "regex = r\"-\\s(\\w|-)*\\s-\"\n",
    "for region in regions:\n",
    "    url = base+location+region+\".xml\"\n",
    "    feeds.append(feedparser.parse(url))\n",
    "\n",
    "for feed in feeds:\n",
    "    for item in feed.entries:\n",
    "        m = re.search(regex, item.title)\n",
    "        if m:\n",
    "            items.append((item.title, m.group(0)[1:-1].lower().strip(), item.published, item.summary, item.link))\n",
    "        else:\n",
    "            cpt+=1\n",
    "\n",
    "rents = pd.DataFrame(items, columns=['titre', 'nom_commune', 'date_publication', 'description', 'lien'])\n",
    "print(\"Il manque %d entrées\" % cpt)\n",
    "rents.head()"
   ]
  },
  {
   "cell_type": "code",
   "execution_count": null,
   "metadata": {},
   "outputs": [],
   "source": [
    "conso = pd.read_csv( \"datasets/conso.csv\" , delimiter = \";\" )\n",
    "\n",
    "dataEnedis = pd.DataFrame(data=conso)\n",
    "dataEnedis.columns = [x.strip().replace(' ', '_').lower() for x in dataEnedis.columns]\n",
    "dataEnedis['nom_commune'] = dataEnedis['nom_commune'].str.lower()\n",
    "#dataEnedis['année'] = pd.to_datetime( dataEnedis['année'] , format = \"%Y\" )\n",
    "dataEnedis.head()"
   ]
  },
  {
   "cell_type": "code",
   "execution_count": null,
   "metadata": {
    "scrolled": true
   },
   "outputs": [],
   "source": [
    "codeCommune = pd.DataFrame(columns=['nom_commune', 'code_commune', \"nombre_d'habitants\"])\n",
    "\n",
    "codeCommune['nom_commune'] = conso[\"nom_commune\"].values\n",
    "codeCommune['code_commune'] = conso[\"code_commune\"]\n",
    "codeCommune[\"nombre_d'habitants\"] = conso[\"nombre_d'habitants\"]\n",
    "codeCommune = codeCommune.drop_duplicates()\n",
    "CommuneByPeople = codeCommune.sort_values([\"nombre_d'habitants\"], ascending = False)\n",
    "CommuneByPeople.head(10)\n",
    "\n"
   ]
  },
  {
   "cell_type": "markdown",
   "metadata": {},
   "source": [
    "*On supprime les champs inutiles du dataset*"
   ]
  },
  {
   "cell_type": "code",
   "execution_count": null,
   "metadata": {},
   "outputs": [],
   "source": [
    "df_enedis = dataEnedis.drop(['geo_shape','geo_point_2d','nom_epci'], axis=1)"
   ]
  },
  {
   "cell_type": "code",
   "execution_count": null,
   "metadata": {},
   "outputs": [],
   "source": [
    "merged = codeCommune.merge(rents, on='nom_commune',how='inner')\n",
    "merged.head()"
   ]
  },
  {
   "cell_type": "markdown",
   "metadata": {},
   "source": [
    " #  Check if any value is NaN in DataFrame"
   ]
  },
  {
   "cell_type": "markdown",
   "metadata": {},
   "source": [
    "Si la fonction retourne `True` alors il existe des colonnes qui contiennent `Nan` en donnée "
   ]
  },
  {
   "cell_type": "code",
   "execution_count": null,
   "metadata": {},
   "outputs": [],
   "source": [
    "isNull = False\n",
    "while isNull == False:\n",
    "    for i in df_enedis.isnull().values.any(axis=1):\n",
    "        if i == True:\n",
    "            isNull = i\n",
    "\n",
    "print(isNull)"
   ]
  },
  {
   "cell_type": "markdown",
   "metadata": {},
   "source": [
    "  Generation de Graphique avec Bohek à partir du fichier ENEDIS"
   ]
  },
  {
   "cell_type": "code",
   "execution_count": null,
   "metadata": {},
   "outputs": [],
   "source": [
    "io.output_notebook()"
   ]
  },
  {
   "cell_type": "code",
   "execution_count": null,
   "metadata": {},
   "outputs": [],
   "source": [
    "years_sorted = sorted(df_enedis['année'].unique())\n",
    "years_sorted"
   ]
  },
  {
   "cell_type": "code",
   "execution_count": null,
   "metadata": {},
   "outputs": [],
   "source": [
    "p = plotting.figure(plot_width=950, plot_height=400)\n",
    "\n",
    "r = p.line(years_sorted,df_enedis[df_enedis[\"nom_commune\"] == 'bourbriac']['conso_totale_industrie_(mwh)'], line_width=2)\n",
    "\n",
    "plotting.show(p)"
   ]
  },
  {
   "cell_type": "code",
   "execution_count": null,
   "metadata": {},
   "outputs": [],
   "source": [
    "df_enedis = df_enedis.sort_values(['nb_sites_résidentiel'], ascending=False)\n",
    "df_enedis.head()"
   ]
  },
  {
   "cell_type": "code",
   "execution_count": null,
   "execution_count": 16,
   "metadata": {},
   "outputs": [],
   "outputs": [
    {
     "name": "stdout",
     "output_type": "stream",
     "text": [
      "['toulouse', 'nice', 'nantes', 'montpellier', 'bordeaux', 'lille', 'rennes', 'reims', 'le havre', 'saint-étienne']\n"
     ]
    },
    {
     "data": {
      "text/html": [
       "<iframe id=\"igraph\" scrolling=\"no\" style=\"border:none;\" seamless=\"seamless\" src=\"https://plot.ly/~enzobes/5.embed\" height=\"525px\" width=\"100%\"></iframe>"
      ],
      "text/plain": [
       "<plotly.tools.PlotlyDisplay object>"
      ]
     },
     "execution_count": 16,
     "metadata": {},
     "output_type": "execute_result"
    }
   ],
   "source": [
    "cf.set_config_file(offline=False, world_readable=True, theme='ggplot')\n",
    "\n",
    "nb_site_resident = df_enedis['nb_sites_résidentiel'].head(10)\n",
    "nb_site_pro = df_enedis['nb_sites_professionnel'].head(10)\n",
    "nb_site_indus = df_enedis['nb_sites_industrie'].head(10)\n",
    "\n",
    "nom_commune = CommuneByPeople['nom_commune'].head(10)\n",
    "\n",
    "residents = []\n",
    "pros = []\n",
    "indus = []\n",
    "communes = []\n",
    "for item in nom_commune:\n",
    "\n",
    "    communes.append(item)\n",
    "\n",
    "for item in nb_site_resident:\n",
    "\n",
    "    residents.append(item)\n",
    "    \n",
    "for item in nb_site_pro:\n",
    "\n",
    "    pros.append(item)\n",
    "    \n",
    "for item in nb_site_indus:\n",
    "\n",
    "    indus.append(item)\n",
    "    \n",
    "print(communes)\n",
    "\n",
    "\n",
    "trace0 = go.Bar(\n",
    "            x=communes,\n",
    "            y=residents,\n",
    "            name = \"Site pro\"\n",
    ")\n",
    "\n",
    "trace1 = go.Bar(\n",
    "            x=communes,\n",
    "            y=pros,\n",
    "            name = \"Site résidents\"\n",
    ")\n",
    "trace2 = go.Bar(\n",
    "            x=communes,\n",
    "            y=indus,\n",
    "            name = \"Site Industriel\"\n",
    ")\n",
    "\n",
    "\n",
    "data = [trace0, trace1, trace2]\n",
    "layout = go.Layout(showlegend=True)\n",
    "fig = go.Figure(data=data, layout=layout)\n",
    "py.iplot(fig, filename='basic-bar')"
   ]
  },
  {
   "cell_type": "markdown",
   "metadata": {},
   "source": [
    "## Merging RSS feed with dataset\n",
    "### Looking for houses\n",
    "\n",
    "On prend les 10 communes possédant le plus de logements de chaque type"
   ]
  },
  {
   "cell_type": "code",
   "execution_count": null,
   "metadata": {},
   "outputs": [],
   "source": [
    "import matplotlib.pyplot as plt\n",
    "\n",
    "f, a = plt.subplots(2,1)\n",
    "df_rents01 = df_enedis.merge(merged, on=[\"code_commune\", \"nom_commune\", \"nombre_d'habitants\"], how=\"inner\")\n",
    "\n",
    "df_rents01.groupby(\"nom_commune\").agg({\"superficie_des_logements_80_à_100_m2\":\"max\"})['superficie_des_logements_80_à_100_m2'].nlargest(10).plot(title=\"Logements de 80 à 100 m2\", x=\"Nb. logements\", y=\"Communes\", kind=\"barh\",figsize=(15,12), ax=a[0])\n",
    "df_rents01.groupby(\"nom_commune\").agg({\"superficie_des_logements_>_100_m2\":\"max\"})['superficie_des_logements_>_100_m2'].nlargest(10).plot(title=\"Logements de plus de 100 m2\", x=\"Nb. logements\", y=\"Communes\", kind=\"barh\",figsize=(15,12), ax=a[1])"
   ]
  },
  {
   "cell_type": "code",
   "execution_count": 19,
   "metadata": {},
   "outputs": [
    {
     "data": {
      "text/html": [
       "\n",
       "<div class=\"bk-root\">\n",
       "    <div class=\"bk-plotdiv\" id=\"61ef42e3-1186-4820-8d3f-3310684a033e\"></div>\n",
       "</div>"
      ]
     },
     "metadata": {},
     "output_type": "display_data"
    },
    {
     "data": {
      "application/javascript": [
       "(function(root) {\n",
       "  function embed_document(root) {\n",
       "    \n",
       "  var docs_json = {\"97fffaf4-1197-4907-931a-089391dc45f4\":{\"roots\":{\"references\":[{\"attributes\":{\"overlay\":{\"id\":\"0da91854-0779-49dc-9aeb-83054ee98771\",\"type\":\"BoxAnnotation\"}},\"id\":\"fa40e21e-bcf7-405b-b6ca-3c900064601b\",\"type\":\"BoxZoomTool\"},{\"attributes\":{\"active_drag\":\"auto\",\"active_inspect\":\"auto\",\"active_scroll\":\"auto\",\"active_tap\":\"auto\",\"tools\":[{\"id\":\"7f39b7ba-368b-447e-bfb1-85876aa41e13\",\"type\":\"PanTool\"},{\"id\":\"21828dd6-ac7e-4f36-b9c7-44742b60157b\",\"type\":\"WheelZoomTool\"},{\"id\":\"fa40e21e-bcf7-405b-b6ca-3c900064601b\",\"type\":\"BoxZoomTool\"},{\"id\":\"9edc5f01-d28b-475d-8399-d47b3aaa41db\",\"type\":\"SaveTool\"},{\"id\":\"1650a004-2859-4b7f-84d3-cf90467c773a\",\"type\":\"ResetTool\"},{\"id\":\"8bbdd326-7915-4ccc-98a9-47221ac02b73\",\"type\":\"HelpTool\"}]},\"id\":\"81e378af-b1f2-4d05-97d5-8c76efbc1549\",\"type\":\"Toolbar\"},{\"attributes\":{},\"id\":\"21828dd6-ac7e-4f36-b9c7-44742b60157b\",\"type\":\"WheelZoomTool\"},{\"attributes\":{\"below\":[{\"id\":\"0d529edb-3c00-406e-85f5-40eb1c8dce7c\",\"type\":\"LinearAxis\"}],\"left\":[{\"id\":\"151d051d-9061-4263-a356-c4a8c5c0f875\",\"type\":\"LinearAxis\"}],\"plot_height\":400,\"plot_width\":950,\"renderers\":[{\"id\":\"0d529edb-3c00-406e-85f5-40eb1c8dce7c\",\"type\":\"LinearAxis\"},{\"id\":\"c63d0ef2-aeff-4a5e-8c44-a17837e9a468\",\"type\":\"Grid\"},{\"id\":\"151d051d-9061-4263-a356-c4a8c5c0f875\",\"type\":\"LinearAxis\"},{\"id\":\"9ecac4d9-e29c-43f9-8bef-3c13f4b79fce\",\"type\":\"Grid\"},{\"id\":\"0da91854-0779-49dc-9aeb-83054ee98771\",\"type\":\"BoxAnnotation\"},{\"id\":\"1946b998-a4db-413c-b65c-97d52a8becb1\",\"type\":\"GlyphRenderer\"}],\"title\":{\"id\":\"826341e6-c31c-4ea4-bb2b-2b3707e2a7f1\",\"type\":\"Title\"},\"toolbar\":{\"id\":\"81e378af-b1f2-4d05-97d5-8c76efbc1549\",\"type\":\"Toolbar\"},\"x_range\":{\"id\":\"6296f621-651a-4f53-8d23-afde795b3d23\",\"type\":\"DataRange1d\"},\"x_scale\":{\"id\":\"d2723319-0d68-45ff-b11e-01faf91eb4dc\",\"type\":\"LinearScale\"},\"y_range\":{\"id\":\"4037915b-38f3-409a-b94c-2c269088494f\",\"type\":\"DataRange1d\"},\"y_scale\":{\"id\":\"af72d793-d43d-45b7-9ba0-b25891849b18\",\"type\":\"LinearScale\"}},\"id\":\"d7ed2102-19c1-4f69-9d37-e25c6c002e8e\",\"subtype\":\"Figure\",\"type\":\"Plot\"},{\"attributes\":{},\"id\":\"7f39b7ba-368b-447e-bfb1-85876aa41e13\",\"type\":\"PanTool\"},{\"attributes\":{\"formatter\":{\"id\":\"6d736317-b3be-422e-9ddb-4d0cff7d118f\",\"type\":\"BasicTickFormatter\"},\"plot\":{\"id\":\"d7ed2102-19c1-4f69-9d37-e25c6c002e8e\",\"subtype\":\"Figure\",\"type\":\"Plot\"},\"ticker\":{\"id\":\"c8ff635f-672f-4025-8315-d3bffa11ad7c\",\"type\":\"BasicTicker\"}},\"id\":\"0d529edb-3c00-406e-85f5-40eb1c8dce7c\",\"type\":\"LinearAxis\"},{\"attributes\":{},\"id\":\"8bbdd326-7915-4ccc-98a9-47221ac02b73\",\"type\":\"HelpTool\"},{\"attributes\":{},\"id\":\"1650a004-2859-4b7f-84d3-cf90467c773a\",\"type\":\"ResetTool\"},{\"attributes\":{\"line_alpha\":0.1,\"line_color\":\"#1f77b4\",\"line_width\":2,\"x\":{\"field\":\"x\"},\"y\":{\"field\":\"y\"}},\"id\":\"e0e0cffa-f4b5-4d69-9f2e-2862b667189e\",\"type\":\"Line\"},{\"attributes\":{},\"id\":\"ed3645b8-ee26-4b6a-9499-928a123cec52\",\"type\":\"BasicTickFormatter\"},{\"attributes\":{\"callback\":null},\"id\":\"6296f621-651a-4f53-8d23-afde795b3d23\",\"type\":\"DataRange1d\"},{\"attributes\":{\"source\":{\"id\":\"3a38b493-dd85-45f0-acaf-ab93edc1226b\",\"type\":\"ColumnDataSource\"}},\"id\":\"e6f6b20b-7e87-4f12-ad46-6357ca449253\",\"type\":\"CDSView\"},{\"attributes\":{},\"id\":\"c8ff635f-672f-4025-8315-d3bffa11ad7c\",\"type\":\"BasicTicker\"},{\"attributes\":{},\"id\":\"9edc5f01-d28b-475d-8399-d47b3aaa41db\",\"type\":\"SaveTool\"},{\"attributes\":{},\"id\":\"af72d793-d43d-45b7-9ba0-b25891849b18\",\"type\":\"LinearScale\"},{\"attributes\":{\"callback\":null,\"column_names\":[\"x\",\"y\"],\"data\":{\"x\":[2011,2012,2013,2014,2015,2016],\"y\":{\"__ndarray__\":\"Dzd2CGhLZ0BsYD9nKx5pQOQHaJ6Bb2pA+lvMjMjPakA3wqq/WCRmQKt5XjC392dA\",\"dtype\":\"float64\",\"shape\":[6]}},\"selected\":null,\"selection_policy\":null},\"id\":\"3a38b493-dd85-45f0-acaf-ab93edc1226b\",\"type\":\"ColumnDataSource\"},{\"attributes\":{\"plot\":{\"id\":\"d7ed2102-19c1-4f69-9d37-e25c6c002e8e\",\"subtype\":\"Figure\",\"type\":\"Plot\"},\"ticker\":{\"id\":\"c8ff635f-672f-4025-8315-d3bffa11ad7c\",\"type\":\"BasicTicker\"}},\"id\":\"c63d0ef2-aeff-4a5e-8c44-a17837e9a468\",\"type\":\"Grid\"},{\"attributes\":{},\"id\":\"6d736317-b3be-422e-9ddb-4d0cff7d118f\",\"type\":\"BasicTickFormatter\"},{\"attributes\":{},\"id\":\"d2723319-0d68-45ff-b11e-01faf91eb4dc\",\"type\":\"LinearScale\"},{\"attributes\":{},\"id\":\"0bd944ba-d1c1-4141-8970-8ae7ec1a1f6e\",\"type\":\"BasicTicker\"},{\"attributes\":{\"dimension\":1,\"plot\":{\"id\":\"d7ed2102-19c1-4f69-9d37-e25c6c002e8e\",\"subtype\":\"Figure\",\"type\":\"Plot\"},\"ticker\":{\"id\":\"0bd944ba-d1c1-4141-8970-8ae7ec1a1f6e\",\"type\":\"BasicTicker\"}},\"id\":\"9ecac4d9-e29c-43f9-8bef-3c13f4b79fce\",\"type\":\"Grid\"},{\"attributes\":{\"line_color\":\"#1f77b4\",\"line_width\":2,\"x\":{\"field\":\"x\"},\"y\":{\"field\":\"y\"}},\"id\":\"6cfa89f7-b919-4f6d-80ba-64e81aaf22b5\",\"type\":\"Line\"},{\"attributes\":{\"bottom_units\":\"screen\",\"fill_alpha\":{\"value\":0.5},\"fill_color\":{\"value\":\"lightgrey\"},\"left_units\":\"screen\",\"level\":\"overlay\",\"line_alpha\":{\"value\":1.0},\"line_color\":{\"value\":\"black\"},\"line_dash\":[4,4],\"line_width\":{\"value\":2},\"plot\":null,\"render_mode\":\"css\",\"right_units\":\"screen\",\"top_units\":\"screen\"},\"id\":\"0da91854-0779-49dc-9aeb-83054ee98771\",\"type\":\"BoxAnnotation\"},{\"attributes\":{\"plot\":null,\"text\":\"\"},\"id\":\"826341e6-c31c-4ea4-bb2b-2b3707e2a7f1\",\"type\":\"Title\"},{\"attributes\":{\"data_source\":{\"id\":\"3a38b493-dd85-45f0-acaf-ab93edc1226b\",\"type\":\"ColumnDataSource\"},\"glyph\":{\"id\":\"6cfa89f7-b919-4f6d-80ba-64e81aaf22b5\",\"type\":\"Line\"},\"hover_glyph\":null,\"muted_glyph\":null,\"nonselection_glyph\":{\"id\":\"e0e0cffa-f4b5-4d69-9f2e-2862b667189e\",\"type\":\"Line\"},\"selection_glyph\":null,\"view\":{\"id\":\"e6f6b20b-7e87-4f12-ad46-6357ca449253\",\"type\":\"CDSView\"}},\"id\":\"1946b998-a4db-413c-b65c-97d52a8becb1\",\"type\":\"GlyphRenderer\"},{\"attributes\":{\"formatter\":{\"id\":\"ed3645b8-ee26-4b6a-9499-928a123cec52\",\"type\":\"BasicTickFormatter\"},\"plot\":{\"id\":\"d7ed2102-19c1-4f69-9d37-e25c6c002e8e\",\"subtype\":\"Figure\",\"type\":\"Plot\"},\"ticker\":{\"id\":\"0bd944ba-d1c1-4141-8970-8ae7ec1a1f6e\",\"type\":\"BasicTicker\"}},\"id\":\"151d051d-9061-4263-a356-c4a8c5c0f875\",\"type\":\"LinearAxis\"},{\"attributes\":{\"callback\":null},\"id\":\"4037915b-38f3-409a-b94c-2c269088494f\",\"type\":\"DataRange1d\"}],\"root_ids\":[\"d7ed2102-19c1-4f69-9d37-e25c6c002e8e\"]},\"title\":\"Bokeh Application\",\"version\":\"0.12.15\"}};\n",
       "  var render_items = [{\"docid\":\"97fffaf4-1197-4907-931a-089391dc45f4\",\"elementid\":\"61ef42e3-1186-4820-8d3f-3310684a033e\",\"modelid\":\"d7ed2102-19c1-4f69-9d37-e25c6c002e8e\",\"notebook_comms_target\":\"ebc60575-d4f1-4137-bf69-ad2681a1083c\"}];\n",
       "  root.Bokeh.embed.embed_items_notebook(docs_json, render_items);\n",
       "\n",
       "  }\n",
       "  if (root.Bokeh !== undefined) {\n",
       "    embed_document(root);\n",
       "  } else {\n",
       "    var attempts = 0;\n",
       "    var timer = setInterval(function(root) {\n",
       "      if (root.Bokeh !== undefined) {\n",
       "        embed_document(root);\n",
       "        clearInterval(timer);\n",
       "      }\n",
       "      attempts++;\n",
       "      if (attempts > 100) {\n",
       "        console.log(\"Bokeh: ERROR: Unable to run BokehJS code because BokehJS library is missing\")\n",
       "        clearInterval(timer);\n",
       "      }\n",
       "    }, 10, root)\n",
       "  }\n",
       "})(window);"
      ],
      "application/vnd.bokehjs_exec.v0+json": ""
     },
     "metadata": {
      "application/vnd.bokehjs_exec.v0+json": {
       "id": "d7ed2102-19c1-4f69-9d37-e25c6c002e8e"
      }
     },
     "output_type": "display_data"
    },
    {
     "data": {
      "text/html": [
       "<p><code>&lt;Bokeh Notebook handle for <strong>In[19]</strong>&gt;</code></p>"
      ],
      "text/plain": [
       "<bokeh.io.notebook.CommsHandle at 0x7fb196adbd30>"
      ]
     },
     "execution_count": 19,
     "metadata": {},
     "output_type": "execute_result"
    }
   ],
   "source": [
    "#numlines = len(df_enedis.columns)\n",
    "#mypalette = palettes.Spectral11[0:numlines]\n",
    "\n",
    "#p = plotting.figure(width=500, height=300)\n",
    "#p.multi_line(xs=years_sorted,\n",
    "#             ys=df_enedis['Conso_totale_Industrie_(MWh)'],\n",
    "#             line_color=mypalette,\n",
    "#             line_width=5)\n",
    "\n",
    "p = plotting.figure(plot_width=950, plot_height=400)\n",
    "r = p.line(years_sorted,df_enedis[df_enedis[\"nom_commune\"] == 'chalabre']['conso_totale_industrie_(mwh)'], line_width=2)\n",
    "def selectCommune(x):\n",
    "    \n",
    "    r.data_source.data['y'] = df_enedis[df_enedis[\"nom_commune\"] == x]['conso_totale_industrie_(mwh)']\n",
    "    push_notebook()\n",
    "    \n",
    "show(p, notebook_handle=True)"
   ]
  },
  {
   "cell_type": "code",
   "execution_count": 20,
   "metadata": {},
   "outputs": [
    {
     "ename": "NameError",
     "evalue": "name 'interact' is not defined",
     "output_type": "error",
     "traceback": [
      "\u001b[0;31m---------------------------------------------------------------------------\u001b[0m",
      "\u001b[0;31mNameError\u001b[0m                                 Traceback (most recent call last)",
      "\u001b[0;32m<ipython-input-20-3446418f0dc8>\u001b[0m in \u001b[0;36m<module>\u001b[0;34m()\u001b[0m\n\u001b[0;32m----> 1\u001b[0;31m \u001b[0minteract\u001b[0m\u001b[0;34m(\u001b[0m\u001b[0mselectCommune\u001b[0m\u001b[0;34m,\u001b[0m\u001b[0mx\u001b[0m\u001b[0;34m=\u001b[0m\u001b[0mcommunes\u001b[0m \u001b[0;34m)\u001b[0m\u001b[0;34m\u001b[0m\u001b[0m\n\u001b[0m",
      "\u001b[0;31mNameError\u001b[0m: name 'interact' is not defined"
     ]
    }
   ],
   "source": [
    "interact(selectCommune,x=communes )"
   ]
  },
  {
   "cell_type": "code",
   "execution_count": null,
   "metadata": {},
   "outputs": [],
   "source": []
  }
 ],
 "metadata": {
  "kernelspec": {
   "display_name": "Python 3",
   "language": "python",
   "name": "python3"
  },
  "language_info": {
   "codemirror_mode": {
    "name": "ipython",
    "version": 3
   },
   "file_extension": ".py",
   "mimetype": "text/x-python",
   "name": "python",
   "nbconvert_exporter": "python",
   "pygments_lexer": "ipython3",
   "version": "3.6.4"
  }
 },
 "nbformat": 4,
 "nbformat_minor": 2
}
